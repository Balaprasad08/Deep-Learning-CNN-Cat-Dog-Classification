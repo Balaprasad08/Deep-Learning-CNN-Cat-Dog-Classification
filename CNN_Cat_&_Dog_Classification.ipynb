{
  "nbformat": 4,
  "nbformat_minor": 0,
  "metadata": {
    "accelerator": "GPU",
    "colab": {
      "name": "CNN Cat & Dog Classification.ipynb",
      "provenance": [],
      "collapsed_sections": []
    },
    "kernelspec": {
      "display_name": "Python 3",
      "name": "python3"
    }
  },
  "cells": [
    {
      "cell_type": "markdown",
      "metadata": {
        "id": "mfe9FmCCw6O2"
      },
      "source": [
        "# Cat & Dog Classification using CNN"
      ]
    },
    {
      "cell_type": "code",
      "metadata": {
        "id": "F-xAn3qrw-TE"
      },
      "source": [
        "#Load Libraries\r\n",
        "import numpy as np\r\n",
        "import pandas as pd\r\n",
        "import matplotlib.pyplot as plt\r\n",
        "import seaborn as sns\r\n",
        "import os\r\n",
        "import warnings\r\n",
        "warnings.filterwarnings('ignore')\r\n",
        "import keras\r\n"
      ],
      "execution_count": null,
      "outputs": []
    },
    {
      "cell_type": "code",
      "metadata": {
        "id": "vmLnpiAPw_rF"
      },
      "source": [
        "from keras.preprocessing.image import ImageDataGenerator\r\n",
        "from keras.optimizers import Adam\r\n",
        "from keras.callbacks import ModelCheckpoint\r\n",
        "from keras.layers.normalization import BatchNormalization\r\n",
        "from keras.regularizers import l2"
      ],
      "execution_count": null,
      "outputs": []
    },
    {
      "cell_type": "markdown",
      "metadata": {
        "id": "yYQoxFwzxDIe"
      },
      "source": [
        "### Load Data"
      ]
    },
    {
      "cell_type": "code",
      "metadata": {
        "colab": {
          "base_uri": "https://localhost:8080/"
        },
        "id": "d2Cmlb25xQw0",
        "outputId": "fd07f0d5-bb31-411a-dc07-fa8b75d99cab"
      },
      "source": [
        "from zipfile import ZipFile\r\n",
        "file_path='/content/drive/MyDrive/dataset.zip'\r\n",
        "with ZipFile(file_path,'r') as zip:\r\n",
        "  zip.extractall()\r\n",
        "  print('finish')"
      ],
      "execution_count": null,
      "outputs": [
        {
          "output_type": "stream",
          "text": [
            "finish\n"
          ],
          "name": "stdout"
        }
      ]
    },
    {
      "cell_type": "code",
      "metadata": {
        "id": "KnYrtqwWxBD7"
      },
      "source": [
        "train_data_path = '/content/dataset/training_set'\r\n",
        "validation_data_path = '/content/dataset/test_set'"
      ],
      "execution_count": null,
      "outputs": []
    },
    {
      "cell_type": "markdown",
      "metadata": {
        "id": "-S5Gd7uFy1Sf"
      },
      "source": [
        "### Data Preprocessing"
      ]
    },
    {
      "cell_type": "code",
      "metadata": {
        "id": "wgj1IZGgyqpK"
      },
      "source": [
        "training_datagen=ImageDataGenerator(rescale=1./255,\r\n",
        "                                   rotation_range=40,\r\n",
        "                                    width_shift_range=0.2,\r\n",
        "                                      height_shift_range=0.2,\r\n",
        "                                      shear_range=0.2,\r\n",
        "                                      zoom_range=0.2,\r\n",
        "                                      horizontal_flip=True,\r\n",
        "                                      fill_mode='nearest')"
      ],
      "execution_count": null,
      "outputs": []
    },
    {
      "cell_type": "code",
      "metadata": {
        "colab": {
          "base_uri": "https://localhost:8080/"
        },
        "id": "gjbnlrRAzXBh",
        "outputId": "4ab9e6d0-3510-4665-adfe-50dd326d51d6"
      },
      "source": [
        "training_data=training_datagen.flow_from_directory(train_data_path,\r\n",
        "                                                   target_size=(150, 150), \r\n",
        "                                      batch_size=32,\r\n",
        "                                      class_mode='binary')"
      ],
      "execution_count": null,
      "outputs": [
        {
          "output_type": "stream",
          "text": [
            "Found 8000 images belonging to 2 classes.\n"
          ],
          "name": "stdout"
        }
      ]
    },
    {
      "cell_type": "code",
      "metadata": {
        "colab": {
          "base_uri": "https://localhost:8080/"
        },
        "id": "9gLDfhFBzYdh",
        "outputId": "c360b5d8-298d-4012-ce77-cff5597a1505"
      },
      "source": [
        "training_data.class_indices"
      ],
      "execution_count": null,
      "outputs": [
        {
          "output_type": "execute_result",
          "data": {
            "text/plain": [
              "{'cats': 0, 'dogs': 1}"
            ]
          },
          "metadata": {
            "tags": []
          },
          "execution_count": 8
        }
      ]
    },
    {
      "cell_type": "code",
      "metadata": {
        "id": "AqUTCys5zc4D"
      },
      "source": [
        "valid_datagen = ImageDataGenerator(rescale=1./255)"
      ],
      "execution_count": null,
      "outputs": []
    },
    {
      "cell_type": "code",
      "metadata": {
        "colab": {
          "base_uri": "https://localhost:8080/"
        },
        "id": "GQ2cjL4CzuEd",
        "outputId": "d9a0c50f-f0c7-430e-a9c3-34a23f7d69c1"
      },
      "source": [
        "valid_data =  valid_datagen.flow_from_directory(validation_data_path, \r\n",
        "                                      target_size=(150, 150), \r\n",
        "                                      batch_size=32,\r\n",
        "                                      class_mode='binary')"
      ],
      "execution_count": null,
      "outputs": [
        {
          "output_type": "stream",
          "text": [
            "Found 2000 images belonging to 2 classes.\n"
          ],
          "name": "stdout"
        }
      ]
    },
    {
      "cell_type": "markdown",
      "metadata": {
        "id": "AkgdXatbzxkO"
      },
      "source": [
        "## Building CNN Model"
      ]
    },
    {
      "cell_type": "code",
      "metadata": {
        "id": "74k3ZRkyzvH6"
      },
      "source": [
        "cnn_model=keras.models.Sequential([\r\n",
        "                                   keras.layers.Conv2D(filters=32,kernel_size=3,input_shape=[150,150,3]),#Add First CNN Layer\r\n",
        "                                   keras.layers.MaxPooling2D(pool_size=(2,2)), #Add First MaxPooling Layer\r\n",
        "\r\n",
        "                                   keras.layers.Conv2D(filters=64,kernel_size=3),#Add Second CNN Layer\r\n",
        "                                   keras.layers.MaxPooling2D(pool_size=(2,2)), #Add Second MaxPooling Layer\r\n",
        "\r\n",
        "                                   keras.layers.Conv2D(filters=128,kernel_size=3),#Add Third CNN Layer\r\n",
        "                                   keras.layers.MaxPooling2D(pool_size=(2,2)), #Add Third MaxPooling Layer\r\n",
        "\r\n",
        "                                   keras.layers.Conv2D(filters=256,kernel_size=3),#Add Fourth CNN Layer\r\n",
        "                                   keras.layers.MaxPooling2D(pool_size=(2,2)), #Add Fourth MaxPooling Layer\r\n",
        "\r\n",
        "                                   keras.layers.Dropout(0.5),# Droupout Layers\r\n",
        "                                   keras.layers.Flatten(),\r\n",
        "\r\n",
        "                                   keras.layers.Dense(units=128,activation='relu'), # First Hidden Layer\r\n",
        "                                   keras.layers.Dropout(0.1), # Droupout Layers\r\n",
        "\r\n",
        "                                   keras.layers.Dense(units=256,activation='relu'), # Second Hidden Layer\r\n",
        "                                   keras.layers.Dropout(0.25), # Droupout Layers\r\n",
        "\r\n",
        "                                   keras.layers.Dense(units=2,activation='softmax') #Output Layer\r\n",
        "                                   \r\n",
        "\r\n",
        "\r\n",
        "])"
      ],
      "execution_count": null,
      "outputs": []
    },
    {
      "cell_type": "code",
      "metadata": {
        "id": "la6z8FO5z1Kz"
      },
      "source": [
        "# compile cnn model\r\n",
        "cnn_model.compile(optimizer = Adam(learning_rate=0.001), loss='sparse_categorical_crossentropy', metrics=['accuracy'])"
      ],
      "execution_count": null,
      "outputs": []
    },
    {
      "cell_type": "markdown",
      "metadata": {
        "id": "VT-enLXmz5gi"
      },
      "source": [
        "## Train CNN Model"
      ]
    },
    {
      "cell_type": "code",
      "metadata": {
        "id": "rJpqyV-V0DUl"
      },
      "source": [
        "model_path='/content/drive/MyDrive/Colab Notebooks/Cat & Dog Prediction/cat&dog_model.h5'\r\n",
        "checkpoint=ModelCheckpoint(model_path,monitor='val_accuracy',verbose=1,save_best_only=True,mode='max')\r\n",
        "callbacks_list=[checkpoint]"
      ],
      "execution_count": null,
      "outputs": []
    },
    {
      "cell_type": "code",
      "metadata": {
        "colab": {
          "background_save": true,
          "base_uri": "https://localhost:8080/"
        },
        "id": "lFnaWA-dz3WK",
        "outputId": "06d8ffa4-7279-4990-dcd5-fc06581e6a37"
      },
      "source": [
        "history = cnn_model.fit(training_data, \r\n",
        "                          epochs=100, \r\n",
        "                          verbose=1, \r\n",
        "                          validation_data= valid_data,\r\n",
        "                          callbacks=callbacks_list)"
      ],
      "execution_count": null,
      "outputs": [
        {
          "output_type": "stream",
          "text": [
            "Epoch 1/100\n",
            "250/250 [==============================] - 74s 271ms/step - loss: 0.7232 - accuracy: 0.5247 - val_loss: 0.6675 - val_accuracy: 0.5680\n",
            "\n",
            "Epoch 00001: val_accuracy improved from -inf to 0.56800, saving model to /content/drive/MyDrive/Colab Notebooks/Cat & Dog Prediction/cat&dog_model.h5\n",
            "Epoch 2/100\n",
            "250/250 [==============================] - 65s 259ms/step - loss: 0.6751 - accuracy: 0.5875 - val_loss: 0.6947 - val_accuracy: 0.5760\n",
            "\n",
            "Epoch 00002: val_accuracy improved from 0.56800 to 0.57600, saving model to /content/drive/MyDrive/Colab Notebooks/Cat & Dog Prediction/cat&dog_model.h5\n",
            "Epoch 3/100\n",
            "250/250 [==============================] - 63s 253ms/step - loss: 0.6621 - accuracy: 0.6035 - val_loss: 0.6374 - val_accuracy: 0.6680\n",
            "\n",
            "Epoch 00003: val_accuracy improved from 0.57600 to 0.66800, saving model to /content/drive/MyDrive/Colab Notebooks/Cat & Dog Prediction/cat&dog_model.h5\n",
            "Epoch 4/100\n",
            "250/250 [==============================] - 64s 258ms/step - loss: 0.6506 - accuracy: 0.6220 - val_loss: 0.6613 - val_accuracy: 0.5990\n",
            "\n",
            "Epoch 00004: val_accuracy did not improve from 0.66800\n",
            "Epoch 5/100\n",
            "250/250 [==============================] - 64s 255ms/step - loss: 0.6277 - accuracy: 0.6533 - val_loss: 0.5679 - val_accuracy: 0.7160\n",
            "\n",
            "Epoch 00005: val_accuracy improved from 0.66800 to 0.71600, saving model to /content/drive/MyDrive/Colab Notebooks/Cat & Dog Prediction/cat&dog_model.h5\n",
            "Epoch 6/100\n",
            "250/250 [==============================] - 63s 252ms/step - loss: 0.6124 - accuracy: 0.6617 - val_loss: 0.5588 - val_accuracy: 0.7215\n",
            "\n",
            "Epoch 00006: val_accuracy improved from 0.71600 to 0.72150, saving model to /content/drive/MyDrive/Colab Notebooks/Cat & Dog Prediction/cat&dog_model.h5\n",
            "Epoch 7/100\n",
            "250/250 [==============================] - 63s 252ms/step - loss: 0.5930 - accuracy: 0.6808 - val_loss: 0.5674 - val_accuracy: 0.7060\n",
            "\n",
            "Epoch 00007: val_accuracy did not improve from 0.72150\n",
            "Epoch 8/100\n",
            "250/250 [==============================] - 62s 249ms/step - loss: 0.5794 - accuracy: 0.6955 - val_loss: 0.6052 - val_accuracy: 0.6340\n",
            "\n",
            "Epoch 00008: val_accuracy did not improve from 0.72150\n",
            "Epoch 9/100\n",
            "250/250 [==============================] - 63s 250ms/step - loss: 0.5857 - accuracy: 0.6982 - val_loss: 0.5601 - val_accuracy: 0.7140\n",
            "\n",
            "Epoch 00009: val_accuracy did not improve from 0.72150\n",
            "Epoch 10/100\n",
            "250/250 [==============================] - 62s 249ms/step - loss: 0.5769 - accuracy: 0.6997 - val_loss: 0.5464 - val_accuracy: 0.7300\n",
            "\n",
            "Epoch 00010: val_accuracy improved from 0.72150 to 0.73000, saving model to /content/drive/MyDrive/Colab Notebooks/Cat & Dog Prediction/cat&dog_model.h5\n",
            "Epoch 11/100\n",
            "250/250 [==============================] - 62s 248ms/step - loss: 0.5837 - accuracy: 0.6911 - val_loss: 0.5346 - val_accuracy: 0.7325\n",
            "\n",
            "Epoch 00011: val_accuracy improved from 0.73000 to 0.73250, saving model to /content/drive/MyDrive/Colab Notebooks/Cat & Dog Prediction/cat&dog_model.h5\n",
            "Epoch 12/100\n",
            "250/250 [==============================] - 62s 248ms/step - loss: 0.5720 - accuracy: 0.7137 - val_loss: 0.5001 - val_accuracy: 0.7760\n",
            "\n",
            "Epoch 00012: val_accuracy improved from 0.73250 to 0.77600, saving model to /content/drive/MyDrive/Colab Notebooks/Cat & Dog Prediction/cat&dog_model.h5\n",
            "Epoch 13/100\n",
            "250/250 [==============================] - 62s 249ms/step - loss: 0.5632 - accuracy: 0.7131 - val_loss: 0.5107 - val_accuracy: 0.7510\n",
            "\n",
            "Epoch 00013: val_accuracy did not improve from 0.77600\n",
            "Epoch 14/100\n",
            "250/250 [==============================] - 62s 249ms/step - loss: 0.5478 - accuracy: 0.7274 - val_loss: 0.5133 - val_accuracy: 0.7425\n",
            "\n",
            "Epoch 00014: val_accuracy did not improve from 0.77600\n",
            "Epoch 15/100\n",
            "250/250 [==============================] - 62s 248ms/step - loss: 0.5592 - accuracy: 0.7191 - val_loss: 0.4976 - val_accuracy: 0.7675\n",
            "\n",
            "Epoch 00015: val_accuracy did not improve from 0.77600\n",
            "Epoch 16/100\n",
            "250/250 [==============================] - 62s 247ms/step - loss: 0.5453 - accuracy: 0.7318 - val_loss: 0.5125 - val_accuracy: 0.7535\n",
            "\n",
            "Epoch 00016: val_accuracy did not improve from 0.77600\n",
            "Epoch 17/100\n",
            "250/250 [==============================] - 62s 247ms/step - loss: 0.5604 - accuracy: 0.7144 - val_loss: 0.5084 - val_accuracy: 0.7795\n",
            "\n",
            "Epoch 00017: val_accuracy improved from 0.77600 to 0.77950, saving model to /content/drive/MyDrive/Colab Notebooks/Cat & Dog Prediction/cat&dog_model.h5\n",
            "Epoch 18/100\n",
            "250/250 [==============================] - 62s 247ms/step - loss: 0.5247 - accuracy: 0.7434 - val_loss: 0.4837 - val_accuracy: 0.7845\n",
            "\n",
            "Epoch 00018: val_accuracy improved from 0.77950 to 0.78450, saving model to /content/drive/MyDrive/Colab Notebooks/Cat & Dog Prediction/cat&dog_model.h5\n",
            "Epoch 19/100\n",
            "250/250 [==============================] - 62s 250ms/step - loss: 0.5392 - accuracy: 0.7295 - val_loss: 0.5202 - val_accuracy: 0.7510\n",
            "\n",
            "Epoch 00019: val_accuracy did not improve from 0.78450\n",
            "Epoch 20/100\n",
            "250/250 [==============================] - 62s 248ms/step - loss: 0.5332 - accuracy: 0.7405 - val_loss: 0.4883 - val_accuracy: 0.7720\n",
            "\n",
            "Epoch 00020: val_accuracy did not improve from 0.78450\n",
            "Epoch 21/100\n",
            "250/250 [==============================] - 62s 248ms/step - loss: 0.5381 - accuracy: 0.7372 - val_loss: 0.5201 - val_accuracy: 0.7725\n",
            "\n",
            "Epoch 00021: val_accuracy did not improve from 0.78450\n",
            "Epoch 22/100\n",
            "250/250 [==============================] - 61s 246ms/step - loss: 0.5373 - accuracy: 0.7350 - val_loss: 0.4521 - val_accuracy: 0.7895\n",
            "\n",
            "Epoch 00022: val_accuracy improved from 0.78450 to 0.78950, saving model to /content/drive/MyDrive/Colab Notebooks/Cat & Dog Prediction/cat&dog_model.h5\n",
            "Epoch 23/100\n",
            "250/250 [==============================] - 62s 247ms/step - loss: 0.5353 - accuracy: 0.7366 - val_loss: 0.4786 - val_accuracy: 0.7830\n",
            "\n",
            "Epoch 00023: val_accuracy did not improve from 0.78950\n",
            "Epoch 24/100\n",
            "250/250 [==============================] - 62s 248ms/step - loss: 0.5363 - accuracy: 0.7351 - val_loss: 0.4414 - val_accuracy: 0.7995\n",
            "\n",
            "Epoch 00024: val_accuracy improved from 0.78950 to 0.79950, saving model to /content/drive/MyDrive/Colab Notebooks/Cat & Dog Prediction/cat&dog_model.h5\n",
            "Epoch 25/100\n",
            "250/250 [==============================] - 62s 247ms/step - loss: 0.5085 - accuracy: 0.7540 - val_loss: 0.4385 - val_accuracy: 0.7980\n",
            "\n",
            "Epoch 00025: val_accuracy did not improve from 0.79950\n",
            "Epoch 26/100\n",
            "250/250 [==============================] - 61s 245ms/step - loss: 0.5434 - accuracy: 0.7326 - val_loss: 0.5027 - val_accuracy: 0.7835\n",
            "\n",
            "Epoch 00026: val_accuracy did not improve from 0.79950\n",
            "Epoch 27/100\n",
            "250/250 [==============================] - 62s 247ms/step - loss: 0.5178 - accuracy: 0.7477 - val_loss: 0.4425 - val_accuracy: 0.8080\n",
            "\n",
            "Epoch 00027: val_accuracy improved from 0.79950 to 0.80800, saving model to /content/drive/MyDrive/Colab Notebooks/Cat & Dog Prediction/cat&dog_model.h5\n",
            "Epoch 28/100\n",
            "250/250 [==============================] - 62s 249ms/step - loss: 0.5124 - accuracy: 0.7556 - val_loss: 0.4591 - val_accuracy: 0.7960\n",
            "\n",
            "Epoch 00028: val_accuracy did not improve from 0.80800\n",
            "Epoch 29/100\n",
            "250/250 [==============================] - 62s 249ms/step - loss: 0.5119 - accuracy: 0.7482 - val_loss: 0.4787 - val_accuracy: 0.7835\n",
            "\n",
            "Epoch 00029: val_accuracy did not improve from 0.80800\n",
            "Epoch 30/100\n",
            "250/250 [==============================] - 62s 249ms/step - loss: 0.5013 - accuracy: 0.7679 - val_loss: 0.4446 - val_accuracy: 0.7925\n",
            "\n",
            "Epoch 00030: val_accuracy did not improve from 0.80800\n",
            "Epoch 31/100\n",
            "250/250 [==============================] - 61s 246ms/step - loss: 0.5103 - accuracy: 0.7582 - val_loss: 0.4426 - val_accuracy: 0.7970\n",
            "\n",
            "Epoch 00031: val_accuracy did not improve from 0.80800\n",
            "Epoch 32/100\n",
            "250/250 [==============================] - 61s 245ms/step - loss: 0.5044 - accuracy: 0.7579 - val_loss: 0.4394 - val_accuracy: 0.8005\n",
            "\n",
            "Epoch 00032: val_accuracy did not improve from 0.80800\n",
            "Epoch 33/100\n",
            "250/250 [==============================] - 61s 245ms/step - loss: 0.5108 - accuracy: 0.7519 - val_loss: 0.4160 - val_accuracy: 0.8110\n",
            "\n",
            "Epoch 00033: val_accuracy improved from 0.80800 to 0.81100, saving model to /content/drive/MyDrive/Colab Notebooks/Cat & Dog Prediction/cat&dog_model.h5\n",
            "Epoch 34/100\n",
            "250/250 [==============================] - 62s 248ms/step - loss: 0.5061 - accuracy: 0.7563 - val_loss: 0.4340 - val_accuracy: 0.7965\n",
            "\n",
            "Epoch 00034: val_accuracy did not improve from 0.81100\n",
            "Epoch 35/100\n",
            "250/250 [==============================] - 61s 244ms/step - loss: 0.4972 - accuracy: 0.7548 - val_loss: 0.4464 - val_accuracy: 0.8025\n",
            "\n",
            "Epoch 00035: val_accuracy did not improve from 0.81100\n",
            "Epoch 36/100\n",
            "250/250 [==============================] - 62s 246ms/step - loss: 0.5034 - accuracy: 0.7526 - val_loss: 0.4481 - val_accuracy: 0.8035\n",
            "\n",
            "Epoch 00036: val_accuracy did not improve from 0.81100\n",
            "Epoch 37/100\n",
            "250/250 [==============================] - 61s 245ms/step - loss: 0.4984 - accuracy: 0.7670 - val_loss: 0.4261 - val_accuracy: 0.8120\n",
            "\n",
            "Epoch 00037: val_accuracy improved from 0.81100 to 0.81200, saving model to /content/drive/MyDrive/Colab Notebooks/Cat & Dog Prediction/cat&dog_model.h5\n",
            "Epoch 38/100\n",
            "250/250 [==============================] - 61s 244ms/step - loss: 0.4875 - accuracy: 0.7652 - val_loss: 0.3986 - val_accuracy: 0.8160\n",
            "\n",
            "Epoch 00038: val_accuracy improved from 0.81200 to 0.81600, saving model to /content/drive/MyDrive/Colab Notebooks/Cat & Dog Prediction/cat&dog_model.h5\n",
            "Epoch 39/100\n",
            "250/250 [==============================] - 61s 245ms/step - loss: 0.4913 - accuracy: 0.7686 - val_loss: 0.4753 - val_accuracy: 0.7725\n",
            "\n",
            "Epoch 00039: val_accuracy did not improve from 0.81600\n",
            "Epoch 40/100\n",
            "250/250 [==============================] - 61s 245ms/step - loss: 0.5018 - accuracy: 0.7526 - val_loss: 0.4493 - val_accuracy: 0.7925\n",
            "\n",
            "Epoch 00040: val_accuracy did not improve from 0.81600\n",
            "Epoch 41/100\n",
            "250/250 [==============================] - 61s 245ms/step - loss: 0.4934 - accuracy: 0.7633 - val_loss: 0.4106 - val_accuracy: 0.8145\n",
            "\n",
            "Epoch 00041: val_accuracy did not improve from 0.81600\n",
            "Epoch 42/100\n",
            "250/250 [==============================] - 61s 244ms/step - loss: 0.4817 - accuracy: 0.7730 - val_loss: 0.4653 - val_accuracy: 0.7855\n",
            "\n",
            "Epoch 00042: val_accuracy did not improve from 0.81600\n",
            "Epoch 43/100\n",
            "250/250 [==============================] - 61s 243ms/step - loss: 0.4933 - accuracy: 0.7735 - val_loss: 0.4447 - val_accuracy: 0.7970\n",
            "\n",
            "Epoch 00043: val_accuracy did not improve from 0.81600\n",
            "Epoch 44/100\n",
            "250/250 [==============================] - 61s 245ms/step - loss: 0.4784 - accuracy: 0.7669 - val_loss: 0.4532 - val_accuracy: 0.7920\n",
            "\n",
            "Epoch 00044: val_accuracy did not improve from 0.81600\n",
            "Epoch 45/100\n",
            "250/250 [==============================] - 61s 243ms/step - loss: 0.4920 - accuracy: 0.7643 - val_loss: 0.3904 - val_accuracy: 0.8290\n",
            "\n",
            "Epoch 00045: val_accuracy improved from 0.81600 to 0.82900, saving model to /content/drive/MyDrive/Colab Notebooks/Cat & Dog Prediction/cat&dog_model.h5\n",
            "Epoch 46/100\n",
            "250/250 [==============================] - 61s 245ms/step - loss: 0.4948 - accuracy: 0.7669 - val_loss: 0.4265 - val_accuracy: 0.8030\n",
            "\n",
            "Epoch 00046: val_accuracy did not improve from 0.82900\n",
            "Epoch 47/100\n",
            "250/250 [==============================] - 61s 245ms/step - loss: 0.4770 - accuracy: 0.7782 - val_loss: 0.3896 - val_accuracy: 0.8245\n",
            "\n",
            "Epoch 00047: val_accuracy did not improve from 0.82900\n",
            "Epoch 48/100\n",
            "250/250 [==============================] - 61s 245ms/step - loss: 0.4908 - accuracy: 0.7728 - val_loss: 0.4682 - val_accuracy: 0.8015\n",
            "\n",
            "Epoch 00048: val_accuracy did not improve from 0.82900\n",
            "Epoch 49/100\n",
            "250/250 [==============================] - 62s 247ms/step - loss: 0.4736 - accuracy: 0.7886 - val_loss: 0.4371 - val_accuracy: 0.8190\n",
            "\n",
            "Epoch 00049: val_accuracy did not improve from 0.82900\n",
            "Epoch 50/100\n",
            "250/250 [==============================] - 61s 246ms/step - loss: 0.4722 - accuracy: 0.7777 - val_loss: 0.4107 - val_accuracy: 0.8205\n",
            "\n",
            "Epoch 00050: val_accuracy did not improve from 0.82900\n",
            "Epoch 51/100\n",
            "250/250 [==============================] - 61s 245ms/step - loss: 0.4664 - accuracy: 0.7869 - val_loss: 0.3970 - val_accuracy: 0.8225\n",
            "\n",
            "Epoch 00051: val_accuracy did not improve from 0.82900\n",
            "Epoch 52/100\n",
            "250/250 [==============================] - 61s 244ms/step - loss: 0.4706 - accuracy: 0.7752 - val_loss: 0.4200 - val_accuracy: 0.8110\n",
            "\n",
            "Epoch 00052: val_accuracy did not improve from 0.82900\n",
            "Epoch 53/100\n",
            "250/250 [==============================] - 61s 245ms/step - loss: 0.4817 - accuracy: 0.7816 - val_loss: 0.4232 - val_accuracy: 0.8130\n",
            "\n",
            "Epoch 00053: val_accuracy did not improve from 0.82900\n",
            "Epoch 54/100\n",
            "250/250 [==============================] - 62s 246ms/step - loss: 0.4538 - accuracy: 0.7930 - val_loss: 0.4049 - val_accuracy: 0.8170\n",
            "\n",
            "Epoch 00054: val_accuracy did not improve from 0.82900\n",
            "Epoch 55/100\n",
            "250/250 [==============================] - 61s 245ms/step - loss: 0.4909 - accuracy: 0.7708 - val_loss: 0.3758 - val_accuracy: 0.8380\n",
            "\n",
            "Epoch 00055: val_accuracy improved from 0.82900 to 0.83800, saving model to /content/drive/MyDrive/Colab Notebooks/Cat & Dog Prediction/cat&dog_model.h5\n",
            "Epoch 56/100\n",
            "250/250 [==============================] - 61s 244ms/step - loss: 0.4705 - accuracy: 0.7820 - val_loss: 0.3909 - val_accuracy: 0.8350\n",
            "\n",
            "Epoch 00056: val_accuracy did not improve from 0.83800\n",
            "Epoch 57/100\n",
            "250/250 [==============================] - 61s 244ms/step - loss: 0.4580 - accuracy: 0.7828 - val_loss: 0.3967 - val_accuracy: 0.8235\n",
            "\n",
            "Epoch 00057: val_accuracy did not improve from 0.83800\n",
            "Epoch 58/100\n",
            "250/250 [==============================] - 61s 244ms/step - loss: 0.4768 - accuracy: 0.7789 - val_loss: 0.3954 - val_accuracy: 0.8210\n",
            "\n",
            "Epoch 00058: val_accuracy did not improve from 0.83800\n",
            "Epoch 59/100\n",
            "250/250 [==============================] - 61s 245ms/step - loss: 0.4565 - accuracy: 0.7893 - val_loss: 0.3593 - val_accuracy: 0.8360\n",
            "\n",
            "Epoch 00059: val_accuracy did not improve from 0.83800\n",
            "Epoch 60/100\n",
            "250/250 [==============================] - 62s 250ms/step - loss: 0.4765 - accuracy: 0.7795 - val_loss: 0.3724 - val_accuracy: 0.8365\n",
            "\n",
            "Epoch 00060: val_accuracy did not improve from 0.83800\n",
            "Epoch 61/100\n",
            "250/250 [==============================] - 62s 247ms/step - loss: 0.4473 - accuracy: 0.7971 - val_loss: 0.3598 - val_accuracy: 0.8385\n",
            "\n",
            "Epoch 00061: val_accuracy improved from 0.83800 to 0.83850, saving model to /content/drive/MyDrive/Colab Notebooks/Cat & Dog Prediction/cat&dog_model.h5\n",
            "Epoch 62/100\n",
            "250/250 [==============================] - 62s 247ms/step - loss: 0.4579 - accuracy: 0.7857 - val_loss: 0.3836 - val_accuracy: 0.8305\n",
            "\n",
            "Epoch 00062: val_accuracy did not improve from 0.83850\n",
            "Epoch 63/100\n",
            "250/250 [==============================] - 61s 246ms/step - loss: 0.4578 - accuracy: 0.7913 - val_loss: 0.3927 - val_accuracy: 0.8220\n",
            "\n",
            "Epoch 00063: val_accuracy did not improve from 0.83850\n",
            "Epoch 64/100\n",
            "250/250 [==============================] - 62s 247ms/step - loss: 0.4874 - accuracy: 0.7764 - val_loss: 0.3673 - val_accuracy: 0.8435\n",
            "\n",
            "Epoch 00064: val_accuracy improved from 0.83850 to 0.84350, saving model to /content/drive/MyDrive/Colab Notebooks/Cat & Dog Prediction/cat&dog_model.h5\n",
            "Epoch 65/100\n",
            "250/250 [==============================] - 61s 246ms/step - loss: 0.4499 - accuracy: 0.7884 - val_loss: 0.3586 - val_accuracy: 0.8455\n",
            "\n",
            "Epoch 00065: val_accuracy improved from 0.84350 to 0.84550, saving model to /content/drive/MyDrive/Colab Notebooks/Cat & Dog Prediction/cat&dog_model.h5\n",
            "Epoch 66/100\n",
            "250/250 [==============================] - 62s 246ms/step - loss: 0.4718 - accuracy: 0.7891 - val_loss: 0.3476 - val_accuracy: 0.8405\n",
            "\n",
            "Epoch 00066: val_accuracy did not improve from 0.84550\n",
            "Epoch 67/100\n",
            "250/250 [==============================] - 62s 247ms/step - loss: 0.4443 - accuracy: 0.7865 - val_loss: 0.4266 - val_accuracy: 0.8175\n",
            "\n",
            "Epoch 00067: val_accuracy did not improve from 0.84550\n",
            "Epoch 68/100\n",
            "250/250 [==============================] - 62s 247ms/step - loss: 0.4461 - accuracy: 0.7958 - val_loss: 0.3751 - val_accuracy: 0.8345\n",
            "\n",
            "Epoch 00068: val_accuracy did not improve from 0.84550\n",
            "Epoch 69/100\n",
            "250/250 [==============================] - 62s 248ms/step - loss: 0.4322 - accuracy: 0.8023 - val_loss: 0.3774 - val_accuracy: 0.8335\n",
            "\n",
            "Epoch 00069: val_accuracy did not improve from 0.84550\n",
            "Epoch 70/100\n",
            "250/250 [==============================] - 62s 248ms/step - loss: 0.4389 - accuracy: 0.8070 - val_loss: 0.4020 - val_accuracy: 0.8275\n",
            "\n",
            "Epoch 00070: val_accuracy did not improve from 0.84550\n",
            "Epoch 71/100\n",
            "250/250 [==============================] - 62s 248ms/step - loss: 0.4463 - accuracy: 0.7906 - val_loss: 0.3387 - val_accuracy: 0.8450\n",
            "\n",
            "Epoch 00071: val_accuracy did not improve from 0.84550\n",
            "Epoch 72/100\n",
            "250/250 [==============================] - 62s 248ms/step - loss: 0.4744 - accuracy: 0.7804 - val_loss: 0.3601 - val_accuracy: 0.8420\n",
            "\n",
            "Epoch 00072: val_accuracy did not improve from 0.84550\n",
            "Epoch 73/100\n",
            "250/250 [==============================] - 62s 248ms/step - loss: 0.4288 - accuracy: 0.8100 - val_loss: 0.4002 - val_accuracy: 0.8350\n",
            "\n",
            "Epoch 00073: val_accuracy did not improve from 0.84550\n",
            "Epoch 74/100\n",
            "250/250 [==============================] - 63s 251ms/step - loss: 0.4364 - accuracy: 0.8062 - val_loss: 0.4246 - val_accuracy: 0.8125\n",
            "\n",
            "Epoch 00074: val_accuracy did not improve from 0.84550\n",
            "Epoch 75/100\n",
            "250/250 [==============================] - 63s 250ms/step - loss: 0.4415 - accuracy: 0.8052 - val_loss: 0.3921 - val_accuracy: 0.8315\n",
            "\n",
            "Epoch 00075: val_accuracy did not improve from 0.84550\n",
            "Epoch 76/100\n",
            "250/250 [==============================] - 63s 251ms/step - loss: 0.4292 - accuracy: 0.8154 - val_loss: 0.4390 - val_accuracy: 0.8255\n",
            "\n",
            "Epoch 00076: val_accuracy did not improve from 0.84550\n",
            "Epoch 77/100\n",
            "250/250 [==============================] - 63s 252ms/step - loss: 0.4417 - accuracy: 0.8058 - val_loss: 0.3403 - val_accuracy: 0.8560\n",
            "\n",
            "Epoch 00077: val_accuracy improved from 0.84550 to 0.85600, saving model to /content/drive/MyDrive/Colab Notebooks/Cat & Dog Prediction/cat&dog_model.h5\n",
            "Epoch 78/100\n",
            "250/250 [==============================] - 63s 252ms/step - loss: 0.4199 - accuracy: 0.8099 - val_loss: 0.3847 - val_accuracy: 0.8330\n",
            "\n",
            "Epoch 00078: val_accuracy did not improve from 0.85600\n",
            "Epoch 79/100\n",
            "250/250 [==============================] - 63s 253ms/step - loss: 0.4308 - accuracy: 0.8057 - val_loss: 0.3458 - val_accuracy: 0.8520\n",
            "\n",
            "Epoch 00079: val_accuracy did not improve from 0.85600\n",
            "Epoch 80/100\n",
            "250/250 [==============================] - 63s 252ms/step - loss: 0.4380 - accuracy: 0.8058 - val_loss: 0.3709 - val_accuracy: 0.8370\n",
            "\n",
            "Epoch 00080: val_accuracy did not improve from 0.85600\n",
            "Epoch 81/100\n",
            "250/250 [==============================] - 63s 253ms/step - loss: 0.4297 - accuracy: 0.8092 - val_loss: 0.3403 - val_accuracy: 0.8460\n",
            "\n",
            "Epoch 00081: val_accuracy did not improve from 0.85600\n",
            "Epoch 82/100\n",
            "250/250 [==============================] - 63s 253ms/step - loss: 0.4138 - accuracy: 0.8190 - val_loss: 0.3405 - val_accuracy: 0.8565\n",
            "\n",
            "Epoch 00082: val_accuracy improved from 0.85600 to 0.85650, saving model to /content/drive/MyDrive/Colab Notebooks/Cat & Dog Prediction/cat&dog_model.h5\n",
            "Epoch 83/100\n",
            "250/250 [==============================] - 64s 255ms/step - loss: 0.4311 - accuracy: 0.8049 - val_loss: 0.4223 - val_accuracy: 0.8090\n",
            "\n",
            "Epoch 00083: val_accuracy did not improve from 0.85650\n",
            "Epoch 84/100\n",
            "250/250 [==============================] - 64s 256ms/step - loss: 0.4253 - accuracy: 0.8082 - val_loss: 0.3392 - val_accuracy: 0.8545\n",
            "\n",
            "Epoch 00084: val_accuracy did not improve from 0.85650\n",
            "Epoch 85/100\n",
            "250/250 [==============================] - 64s 256ms/step - loss: 0.4268 - accuracy: 0.8111 - val_loss: 0.3766 - val_accuracy: 0.8320\n",
            "\n",
            "Epoch 00085: val_accuracy did not improve from 0.85650\n",
            "Epoch 86/100\n",
            "250/250 [==============================] - 64s 256ms/step - loss: 0.4225 - accuracy: 0.8100 - val_loss: 0.3575 - val_accuracy: 0.8540\n",
            "\n",
            "Epoch 00086: val_accuracy did not improve from 0.85650\n",
            "Epoch 87/100\n",
            "250/250 [==============================] - 64s 257ms/step - loss: 0.4143 - accuracy: 0.8192 - val_loss: 0.3546 - val_accuracy: 0.8530\n",
            "\n",
            "Epoch 00087: val_accuracy did not improve from 0.85650\n",
            "Epoch 88/100\n",
            "250/250 [==============================] - 65s 259ms/step - loss: 0.4314 - accuracy: 0.8141 - val_loss: 0.3662 - val_accuracy: 0.8420\n",
            "\n",
            "Epoch 00088: val_accuracy did not improve from 0.85650\n",
            "Epoch 89/100\n",
            "250/250 [==============================] - 65s 260ms/step - loss: 0.4252 - accuracy: 0.8126 - val_loss: 0.3977 - val_accuracy: 0.8250\n",
            "\n",
            "Epoch 00089: val_accuracy did not improve from 0.85650\n",
            "Epoch 90/100\n",
            "250/250 [==============================] - 65s 259ms/step - loss: 0.4234 - accuracy: 0.8100 - val_loss: 0.3662 - val_accuracy: 0.8390\n",
            "\n",
            "Epoch 00090: val_accuracy did not improve from 0.85650\n",
            "Epoch 91/100\n",
            "250/250 [==============================] - 65s 259ms/step - loss: 0.4087 - accuracy: 0.8120 - val_loss: 0.3176 - val_accuracy: 0.8610\n",
            "\n",
            "Epoch 00091: val_accuracy improved from 0.85650 to 0.86100, saving model to /content/drive/MyDrive/Colab Notebooks/Cat & Dog Prediction/cat&dog_model.h5\n",
            "Epoch 92/100\n",
            "250/250 [==============================] - 65s 259ms/step - loss: 0.3995 - accuracy: 0.8235 - val_loss: 0.3523 - val_accuracy: 0.8460\n",
            "\n",
            "Epoch 00092: val_accuracy did not improve from 0.86100\n",
            "Epoch 93/100\n",
            "250/250 [==============================] - 65s 258ms/step - loss: 0.4588 - accuracy: 0.7887 - val_loss: 0.3361 - val_accuracy: 0.8600\n",
            "\n",
            "Epoch 00093: val_accuracy did not improve from 0.86100\n",
            "Epoch 94/100\n",
            "250/250 [==============================] - 65s 259ms/step - loss: 0.4342 - accuracy: 0.8125 - val_loss: 0.3209 - val_accuracy: 0.8490\n",
            "\n",
            "Epoch 00094: val_accuracy did not improve from 0.86100\n",
            "Epoch 95/100\n",
            "250/250 [==============================] - 64s 257ms/step - loss: 0.4045 - accuracy: 0.8192 - val_loss: 0.3550 - val_accuracy: 0.8645\n",
            "\n",
            "Epoch 00095: val_accuracy improved from 0.86100 to 0.86450, saving model to /content/drive/MyDrive/Colab Notebooks/Cat & Dog Prediction/cat&dog_model.h5\n",
            "Epoch 96/100\n",
            "250/250 [==============================] - 64s 257ms/step - loss: 0.4100 - accuracy: 0.8171 - val_loss: 0.3583 - val_accuracy: 0.8325\n",
            "\n",
            "Epoch 00096: val_accuracy did not improve from 0.86450\n",
            "Epoch 97/100\n",
            "250/250 [==============================] - 65s 258ms/step - loss: 0.4231 - accuracy: 0.8094 - val_loss: 0.3133 - val_accuracy: 0.8690\n",
            "\n",
            "Epoch 00097: val_accuracy improved from 0.86450 to 0.86900, saving model to /content/drive/MyDrive/Colab Notebooks/Cat & Dog Prediction/cat&dog_model.h5\n",
            "Epoch 98/100\n",
            "250/250 [==============================] - 64s 258ms/step - loss: 0.4003 - accuracy: 0.8264 - val_loss: 0.3562 - val_accuracy: 0.8355\n",
            "\n",
            "Epoch 00098: val_accuracy did not improve from 0.86900\n",
            "Epoch 99/100\n",
            "250/250 [==============================] - 65s 259ms/step - loss: 0.4150 - accuracy: 0.8216 - val_loss: 0.3347 - val_accuracy: 0.8590\n",
            "\n",
            "Epoch 00099: val_accuracy did not improve from 0.86900\n",
            "Epoch 100/100\n",
            "250/250 [==============================] - 65s 259ms/step - loss: 0.4122 - accuracy: 0.8200 - val_loss: 0.4111 - val_accuracy: 0.8345\n",
            "\n",
            "Epoch 00100: val_accuracy did not improve from 0.86900\n"
          ],
          "name": "stdout"
        }
      ]
    },
    {
      "cell_type": "markdown",
      "metadata": {
        "id": "3gEywhZUxL1B"
      },
      "source": [
        "### **Import Model**"
      ]
    },
    {
      "cell_type": "code",
      "metadata": {
        "id": "kEaUpOrYz80z"
      },
      "source": [
        "model_path='/content/drive/MyDrive/Colab Notebooks/Cat & Dog Prediction/cat&dog_model.h5'"
      ],
      "execution_count": null,
      "outputs": []
    },
    {
      "cell_type": "code",
      "metadata": {
        "id": "hV_GynGKxOR_"
      },
      "source": [
        "model=keras.models.load_model(model_path)"
      ],
      "execution_count": null,
      "outputs": []
    },
    {
      "cell_type": "code",
      "metadata": {
        "id": "D6cfIYmMxkiD"
      },
      "source": [
        "# cat images\r\n",
        "c1='/content/drive/MyDrive/Colab Notebooks/Cat & Dog Prediction/cat&dog test/cat/1.jpeg'\r\n",
        "c2='/content/drive/MyDrive/Colab Notebooks/Cat & Dog Prediction/cat&dog test/cat/2.jpg'\r\n",
        "c3='/content/drive/MyDrive/Colab Notebooks/Cat & Dog Prediction/cat&dog test/cat/3.png'\r\n",
        "c4='/content/drive/MyDrive/Colab Notebooks/Cat & Dog Prediction/cat&dog test/cat/4.jpg'\r\n",
        "c5='/content/drive/MyDrive/Colab Notebooks/Cat & Dog Prediction/cat&dog test/cat/5.jpg'\r\n",
        "\r\n",
        "# Dog images\r\n",
        "d1='/content/drive/MyDrive/Colab Notebooks/Cat & Dog Prediction/cat&dog test/dog/1.jpg'\r\n",
        "d2='/content/drive/MyDrive/Colab Notebooks/Cat & Dog Prediction/cat&dog test/dog/2.jpg'\r\n",
        "d3='/content/drive/MyDrive/Colab Notebooks/Cat & Dog Prediction/cat&dog test/dog/3.jpg'\r\n",
        "d4='/content/drive/MyDrive/Colab Notebooks/Cat & Dog Prediction/cat&dog test/dog/4.jpg'\r\n",
        "d5='/content/drive/MyDrive/Colab Notebooks/Cat & Dog Prediction/cat&dog test/dog/5.jpg'"
      ],
      "execution_count": null,
      "outputs": []
    },
    {
      "cell_type": "code",
      "metadata": {
        "id": "-Ik54AR2zl8y"
      },
      "source": [
        "import numpy as np\r\n",
        "from keras.preprocessing import image"
      ],
      "execution_count": null,
      "outputs": []
    },
    {
      "cell_type": "code",
      "metadata": {
        "id": "6JokYQvizozr"
      },
      "source": [
        "def pred_cat_dog(model, cat_or_dog):\r\n",
        "  test_image = image.load_img(cat_or_dog, target_size = (150, 150))\r\n",
        "  test_image = image.img_to_array(test_image)/255\r\n",
        "  test_image = np.expand_dims(test_image, axis = 0)\r\n",
        "\r\n",
        "  result = model.predict(test_image).round(3)\r\n",
        "\r\n",
        "  pred = np.argmax(result)\r\n",
        "  print(result, \"--->>>\", pred)\r\n",
        "\r\n",
        "  if pred == 0:\r\n",
        "    print('Predicted>>> Cat')\r\n",
        "  else:\r\n",
        "    print('Predicted>>> Dog')"
      ],
      "execution_count": null,
      "outputs": []
    },
    {
      "cell_type": "markdown",
      "metadata": {
        "id": "zzhG8dIo0PNq"
      },
      "source": [
        "## Predict Output"
      ]
    },
    {
      "cell_type": "code",
      "metadata": {
        "colab": {
          "base_uri": "https://localhost:8080/"
        },
        "id": "bIwhf_Vs0Jid",
        "outputId": "b4f6f8f1-154a-4cc2-a38d-0ef365d4a361"
      },
      "source": [
        "for cat_or_dog in [c1,c2,c3,c4,c5,d1,d2,d3,d4,d5]:\r\n",
        "  pred_cat_dog(model, cat_or_dog)"
      ],
      "execution_count": null,
      "outputs": [
        {
          "output_type": "stream",
          "text": [
            "[[0.959 0.041]] --->>> 0\n",
            "Predicted>>> Cat\n",
            "[[1. 0.]] --->>> 0\n",
            "Predicted>>> Cat\n",
            "[[1. 0.]] --->>> 0\n",
            "Predicted>>> Cat\n",
            "[[0.98 0.02]] --->>> 0\n",
            "Predicted>>> Cat\n",
            "[[0.999 0.001]] --->>> 0\n",
            "Predicted>>> Cat\n",
            "[[0.013 0.987]] --->>> 1\n",
            "Predicted>>> Dog\n",
            "[[0.193 0.807]] --->>> 1\n",
            "Predicted>>> Dog\n",
            "[[0.014 0.986]] --->>> 1\n",
            "Predicted>>> Dog\n",
            "[[0.004 0.996]] --->>> 1\n",
            "Predicted>>> Dog\n",
            "[[0.027 0.973]] --->>> 1\n",
            "Predicted>>> Dog\n"
          ],
          "name": "stdout"
        }
      ]
    },
    {
      "cell_type": "code",
      "metadata": {
        "id": "ly7r-G8w0w2j"
      },
      "source": [
        ""
      ],
      "execution_count": null,
      "outputs": []
    }
  ]
}